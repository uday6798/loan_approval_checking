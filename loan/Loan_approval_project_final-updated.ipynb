{
 "cells": [
  {
   "cell_type": "code",
   "execution_count": 1,
   "metadata": {
    "colab": {},
    "colab_type": "code",
    "id": "G1XG9pyOq4G4"
   },
   "outputs": [
    {
     "data": {
      "text/plain": [
       "'\\n0. Define hypothesis (understand business context and problem statements)\\n1. Load the dataset\\n2. Explore the dataset using charts or some statistical models\\n3. Preprocess the data (Are there any null values?, Are all columns relevent? Are there outcome? \\n   Are the columns independent?)\\n4. Apply preprocess values (Transformation of the columns after preprocessing decisions)\\n5. Split training and test data\\n6. Select the model (What is the category of the problem? Classification or regression? labeled or \\n   non-labeled data?)\\n7. Fit the model with training data (what is the accuracy score?)\\n8. Validate the model with test data (what is the accuracy score?)\\n9. Optimize the model if the accuracy score is not satisfactory (Select parameters that can improve \\n   the accuracy and apply to model)\\n10. Run the model with new test data\\n11. Save the model\\n12. Deploy the model (Desktop or web app or mobile app or IOT device)\\n'"
      ]
     },
     "execution_count": 1,
     "metadata": {},
     "output_type": "execute_result"
    }
   ],
   "source": [
    "# Basic machine learning models (Supervised and Unsupervised learning)\n",
    "\"\"\"\n",
    "0. Define hypothesis (understand business context and problem statements)\n",
    "1. Load the dataset\n",
    "2. Explore the dataset using charts or some statistical models\n",
    "3. Preprocess the data (Are there any null values?, Are all columns relevent? Are there outcome? \n",
    "   Are the columns independent?)\n",
    "4. Apply preprocess values (Transformation of the columns after preprocessing decisions)\n",
    "5. Split training and test data\n",
    "6. Select the model (What is the category of the problem? Classification or regression? labeled or \n",
    "   non-labeled data?)\n",
    "7. Fit the model with training data (what is the accuracy score?)\n",
    "8. Validate the model with test data (what is the accuracy score?)\n",
    "9. Optimize the model if the accuracy score is not satisfactory (Select parameters that can improve \n",
    "   the accuracy and apply to model)\n",
    "10. Run the model with new test data\n",
    "11. Save the model\n",
    "12. Deploy the model (Desktop or web app or mobile app or IOT device)\n",
    "\"\"\""
   ]
  },
  {
   "cell_type": "code",
   "execution_count": 1,
   "metadata": {
    "colab": {},
    "colab_type": "code",
    "id": "eQB05qacq4HD"
   },
   "outputs": [],
   "source": [
    "import pandas as pd"
   ]
  },
  {
   "cell_type": "code",
   "execution_count": 2,
   "metadata": {
    "colab": {},
    "colab_type": "code",
    "id": "zVBjr71Eq4HJ"
   },
   "outputs": [],
   "source": [
    "loan = pd.read_csv('../DATASET/loan.csv')"
   ]
  },
  {
   "cell_type": "code",
   "execution_count": 3,
   "metadata": {
    "colab": {
     "base_uri": "https://localhost:8080/",
     "height": 241
    },
    "colab_type": "code",
    "executionInfo": {
     "elapsed": 4331,
     "status": "ok",
     "timestamp": 1580713449555,
     "user": {
      "displayName": "Krishna Prakash",
      "photoUrl": "",
      "userId": "04998136798026767356"
     },
     "user_tz": -330
    },
    "id": "lO20jatlq4HP",
    "outputId": "bd3ad10f-ed8e-458c-9b7b-903519d4fb39"
   },
   "outputs": [
    {
     "data": {
      "text/html": [
       "<div>\n",
       "<style scoped>\n",
       "    .dataframe tbody tr th:only-of-type {\n",
       "        vertical-align: middle;\n",
       "    }\n",
       "\n",
       "    .dataframe tbody tr th {\n",
       "        vertical-align: top;\n",
       "    }\n",
       "\n",
       "    .dataframe thead th {\n",
       "        text-align: right;\n",
       "    }\n",
       "</style>\n",
       "<table border=\"1\" class=\"dataframe\">\n",
       "  <thead>\n",
       "    <tr style=\"text-align: right;\">\n",
       "      <th></th>\n",
       "      <th>Loan_ID</th>\n",
       "      <th>Gender</th>\n",
       "      <th>Married</th>\n",
       "      <th>Dependents</th>\n",
       "      <th>Education</th>\n",
       "      <th>Self_Employed</th>\n",
       "      <th>ApplicantIncome</th>\n",
       "      <th>CoapplicantIncome</th>\n",
       "      <th>LoanAmount</th>\n",
       "      <th>Loan_Amount_Term</th>\n",
       "      <th>Credit_History</th>\n",
       "      <th>Property_Area</th>\n",
       "      <th>Loan_status</th>\n",
       "    </tr>\n",
       "  </thead>\n",
       "  <tbody>\n",
       "    <tr>\n",
       "      <th>0</th>\n",
       "      <td>LP001015</td>\n",
       "      <td>Male</td>\n",
       "      <td>Yes</td>\n",
       "      <td>0</td>\n",
       "      <td>Graduate</td>\n",
       "      <td>No</td>\n",
       "      <td>5720</td>\n",
       "      <td>0.0</td>\n",
       "      <td>110.0</td>\n",
       "      <td>360.0</td>\n",
       "      <td>1.0</td>\n",
       "      <td>Urban</td>\n",
       "      <td>Y</td>\n",
       "    </tr>\n",
       "    <tr>\n",
       "      <th>1</th>\n",
       "      <td>LP001022</td>\n",
       "      <td>Male</td>\n",
       "      <td>Yes</td>\n",
       "      <td>1</td>\n",
       "      <td>Graduate</td>\n",
       "      <td>No</td>\n",
       "      <td>3076</td>\n",
       "      <td>1500.0</td>\n",
       "      <td>126.0</td>\n",
       "      <td>360.0</td>\n",
       "      <td>1.0</td>\n",
       "      <td>Urban</td>\n",
       "      <td>N</td>\n",
       "    </tr>\n",
       "    <tr>\n",
       "      <th>2</th>\n",
       "      <td>LP001031</td>\n",
       "      <td>Male</td>\n",
       "      <td>Yes</td>\n",
       "      <td>2</td>\n",
       "      <td>Graduate</td>\n",
       "      <td>No</td>\n",
       "      <td>5000</td>\n",
       "      <td>1800.0</td>\n",
       "      <td>208.0</td>\n",
       "      <td>360.0</td>\n",
       "      <td>1.0</td>\n",
       "      <td>Urban</td>\n",
       "      <td>Y</td>\n",
       "    </tr>\n",
       "    <tr>\n",
       "      <th>3</th>\n",
       "      <td>LP001035</td>\n",
       "      <td>Male</td>\n",
       "      <td>Yes</td>\n",
       "      <td>2</td>\n",
       "      <td>Graduate</td>\n",
       "      <td>No</td>\n",
       "      <td>2340</td>\n",
       "      <td>2546.0</td>\n",
       "      <td>100.0</td>\n",
       "      <td>360.0</td>\n",
       "      <td>NaN</td>\n",
       "      <td>Urban</td>\n",
       "      <td>Y</td>\n",
       "    </tr>\n",
       "    <tr>\n",
       "      <th>4</th>\n",
       "      <td>LP001051</td>\n",
       "      <td>Male</td>\n",
       "      <td>No</td>\n",
       "      <td>0</td>\n",
       "      <td>Not Graduate</td>\n",
       "      <td>No</td>\n",
       "      <td>3276</td>\n",
       "      <td>0.0</td>\n",
       "      <td>78.0</td>\n",
       "      <td>360.0</td>\n",
       "      <td>1.0</td>\n",
       "      <td>Urban</td>\n",
       "      <td>Y</td>\n",
       "    </tr>\n",
       "  </tbody>\n",
       "</table>\n",
       "</div>"
      ],
      "text/plain": [
       "    Loan_ID Gender Married Dependents     Education Self_Employed  \\\n",
       "0  LP001015   Male     Yes          0      Graduate            No   \n",
       "1  LP001022   Male     Yes          1      Graduate            No   \n",
       "2  LP001031   Male     Yes          2      Graduate            No   \n",
       "3  LP001035   Male     Yes          2      Graduate            No   \n",
       "4  LP001051   Male      No          0  Not Graduate            No   \n",
       "\n",
       "   ApplicantIncome  CoapplicantIncome  LoanAmount  Loan_Amount_Term  \\\n",
       "0             5720                0.0       110.0             360.0   \n",
       "1             3076             1500.0       126.0             360.0   \n",
       "2             5000             1800.0       208.0             360.0   \n",
       "3             2340             2546.0       100.0             360.0   \n",
       "4             3276                0.0        78.0             360.0   \n",
       "\n",
       "   Credit_History Property_Area Loan_status  \n",
       "0             1.0         Urban           Y  \n",
       "1             1.0         Urban           N  \n",
       "2             1.0         Urban           Y  \n",
       "3             NaN         Urban           Y  \n",
       "4             1.0         Urban           Y  "
      ]
     },
     "execution_count": 3,
     "metadata": {},
     "output_type": "execute_result"
    }
   ],
   "source": [
    "loan.head()"
   ]
  },
  {
   "cell_type": "code",
   "execution_count": 4,
   "metadata": {
    "colab": {
     "base_uri": "https://localhost:8080/",
     "height": 282
    },
    "colab_type": "code",
    "executionInfo": {
     "elapsed": 5086,
     "status": "ok",
     "timestamp": 1580713450342,
     "user": {
      "displayName": "Krishna Prakash",
      "photoUrl": "",
      "userId": "04998136798026767356"
     },
     "user_tz": -330
    },
    "id": "GcogwetTq4HX",
    "outputId": "34d3f6a4-f3c2-463a-abec-e1020df7c70d"
   },
   "outputs": [
    {
     "data": {
      "text/plain": [
       "<matplotlib.axes._subplots.AxesSubplot at 0x18a268dde08>"
      ]
     },
     "execution_count": 4,
     "metadata": {},
     "output_type": "execute_result"
    },
    {
     "data": {
      "image/png": "[encoded data removed]",
      "text/plain": [
       "<Figure size 432x288 with 1 Axes>"
      ]
     },
     "metadata": {
      "needs_background": "light"
     },
     "output_type": "display_data"
    }
   ],
   "source": [
    "from matplotlib import pyplot\n",
    "#loan.plot(kind='box')\n",
    "loan.LoanAmount.plot(kind='box')"
   ]
  },
  {
   "cell_type": "code",
   "execution_count": 5,
   "metadata": {
    "colab": {
     "base_uri": "https://localhost:8080/",
     "height": 255
    },
    "colab_type": "code",
    "executionInfo": {
     "elapsed": 5071,
     "status": "ok",
     "timestamp": 1580713450344,
     "user": {
      "displayName": "Krishna Prakash",
      "photoUrl": "",
      "userId": "04998136798026767356"
     },
     "user_tz": -330
    },
    "id": "ZCy_xtv5q4He",
    "outputId": "76ea6462-a6ab-4f6d-b7a2-93932f467c71"
   },
   "outputs": [
    {
     "data": {
      "text/plain": [
       "Loan_ID               0\n",
       "Gender               24\n",
       "Married               3\n",
       "Dependents           25\n",
       "Education             0\n",
       "Self_Employed        55\n",
       "ApplicantIncome       0\n",
       "CoapplicantIncome     0\n",
       "LoanAmount           27\n",
       "Loan_Amount_Term     20\n",
       "Credit_History       79\n",
       "Property_Area         0\n",
       "Loan_status           0\n",
       "dtype: int64"
      ]
     },
     "execution_count": 5,
     "metadata": {},
     "output_type": "execute_result"
    }
   ],
   "source": [
    "# check for missing values --> count : how many null values in each column\n",
    "loan.isnull().sum()"
   ]
  },
  {
   "cell_type": "code",
   "execution_count": 6,
   "metadata": {
    "colab": {
     "base_uri": "https://localhost:8080/",
     "height": 68
    },
    "colab_type": "code",
    "executionInfo": {
     "elapsed": 4978,
     "status": "ok",
     "timestamp": 1580713450347,
     "user": {
      "displayName": "Krishna Prakash",
      "photoUrl": "",
      "userId": "04998136798026767356"
     },
     "user_tz": -330
    },
    "id": "c9deg7Yoq4Hk",
    "outputId": "cae8a0d2-a151-4c27-fa78-c2e4090179d7"
   },
   "outputs": [
    {
     "data": {
      "text/plain": [
       "Male      775\n",
       "Female    182\n",
       "Name: Gender, dtype: int64"
      ]
     },
     "execution_count": 6,
     "metadata": {},
     "output_type": "execute_result"
    }
   ],
   "source": [
    "# majority of the loan applicants are Male \n",
    "loan['Gender'].value_counts()"
   ]
  },
  {
   "cell_type": "code",
   "execution_count": 7,
   "metadata": {
    "colab": {},
    "colab_type": "code",
    "id": "Qc76vD_Yq4Ht"
   },
   "outputs": [],
   "source": [
    "# fill the nulls with majority values\n",
    "loan.Gender = loan.Gender.fillna('Male')"
   ]
  },
  {
   "cell_type": "code",
   "execution_count": 8,
   "metadata": {
    "colab": {
     "base_uri": "https://localhost:8080/",
     "height": 68
    },
    "colab_type": "code",
    "executionInfo": {
     "elapsed": 4911,
     "status": "ok",
     "timestamp": 1580713450389,
     "user": {
      "displayName": "Krishna Prakash",
      "photoUrl": "",
      "userId": "04998136798026767356"
     },
     "user_tz": -330
    },
    "id": "uj7W8ZJyq4Hy",
    "outputId": "1a13fa9d-3c30-4d44-bd94-c230339d4648"
   },
   "outputs": [
    {
     "data": {
      "text/plain": [
       "Yes    631\n",
       "No     347\n",
       "Name: Married, dtype: int64"
      ]
     },
     "execution_count": 8,
     "metadata": {},
     "output_type": "execute_result"
    }
   ],
   "source": [
    "loan['Married'].value_counts()"
   ]
  },
  {
   "cell_type": "code",
   "execution_count": 9,
   "metadata": {
    "colab": {},
    "colab_type": "code",
    "id": "7dCleEJHq4H3"
   },
   "outputs": [],
   "source": [
    "loan.Married = loan.Married.fillna('Yes')"
   ]
  },
  {
   "cell_type": "code",
   "execution_count": 10,
   "metadata": {
    "colab": {
     "base_uri": "https://localhost:8080/",
     "height": 102
    },
    "colab_type": "code",
    "executionInfo": {
     "elapsed": 4803,
     "status": "ok",
     "timestamp": 1580713450392,
     "user": {
      "displayName": "Krishna Prakash",
      "photoUrl": "",
      "userId": "04998136798026767356"
     },
     "user_tz": -330
    },
    "id": "iBy8jabUq4H8",
    "outputId": "7a90bfbc-37ed-4b34-eb95-ffc86def24d4"
   },
   "outputs": [
    {
     "data": {
      "text/plain": [
       "0     545\n",
       "2     160\n",
       "1     160\n",
       "3+     91\n",
       "Name: Dependents, dtype: int64"
      ]
     },
     "execution_count": 10,
     "metadata": {},
     "output_type": "execute_result"
    }
   ],
   "source": [
    "loan['Dependents'].value_counts()"
   ]
  },
  {
   "cell_type": "code",
   "execution_count": 11,
   "metadata": {
    "colab": {},
    "colab_type": "code",
    "id": "-MDs6PcQq4IB"
   },
   "outputs": [],
   "source": [
    "loan.Dependents = loan.Dependents.fillna('0')"
   ]
  },
  {
   "cell_type": "code",
   "execution_count": 12,
   "metadata": {
    "colab": {
     "base_uri": "https://localhost:8080/",
     "height": 68
    },
    "colab_type": "code",
    "executionInfo": {
     "elapsed": 4769,
     "status": "ok",
     "timestamp": 1580713450395,
     "user": {
      "displayName": "Krishna Prakash",
      "photoUrl": "",
      "userId": "04998136798026767356"
     },
     "user_tz": -330
    },
    "id": "WC2sE2nmq4IG",
    "outputId": "0f0040a1-1990-4efe-916a-f9b6b0c6900d"
   },
   "outputs": [
    {
     "data": {
      "text/plain": [
       "No     807\n",
       "Yes    119\n",
       "Name: Self_Employed, dtype: int64"
      ]
     },
     "execution_count": 12,
     "metadata": {},
     "output_type": "execute_result"
    }
   ],
   "source": [
    "loan['Self_Employed'].value_counts()"
   ]
  },
  {
   "cell_type": "code",
   "execution_count": 13,
   "metadata": {
    "colab": {},
    "colab_type": "code",
    "id": "OXeP0iAvq4IK"
   },
   "outputs": [],
   "source": [
    "loan.Self_Employed = loan.Self_Employed.fillna('No')"
   ]
  },
  {
   "cell_type": "code",
   "execution_count": 14,
   "metadata": {
    "colab": {},
    "colab_type": "code",
    "id": "FLVfDLbuq4IP"
   },
   "outputs": [],
   "source": [
    "loan.LoanAmount = loan.LoanAmount.fillna(loan.LoanAmount.mean())"
   ]
  },
  {
   "cell_type": "code",
   "execution_count": 15,
   "metadata": {
    "colab": {
     "base_uri": "https://localhost:8080/",
     "height": 238
    },
    "colab_type": "code",
    "executionInfo": {
     "elapsed": 4668,
     "status": "ok",
     "timestamp": 1580713450402,
     "user": {
      "displayName": "Krishna Prakash",
      "photoUrl": "",
      "userId": "04998136798026767356"
     },
     "user_tz": -330
    },
    "id": "T3SHCyfjq4IV",
    "outputId": "9914a5b7-7306-44aa-b682-e262d08b9199"
   },
   "outputs": [
    {
     "data": {
      "text/plain": [
       "360.0    823\n",
       "180.0     66\n",
       "480.0     23\n",
       "300.0     20\n",
       "240.0      8\n",
       "84.0       7\n",
       "120.0      4\n",
       "36.0       3\n",
       "60.0       3\n",
       "12.0       2\n",
       "350.0      1\n",
       "6.0        1\n",
       "Name: Loan_Amount_Term, dtype: int64"
      ]
     },
     "execution_count": 15,
     "metadata": {},
     "output_type": "execute_result"
    }
   ],
   "source": [
    "loan['Loan_Amount_Term'].value_counts()"
   ]
  },
  {
   "cell_type": "code",
   "execution_count": 16,
   "metadata": {
    "colab": {},
    "colab_type": "code",
    "id": "nMlzfJhtq4Ib"
   },
   "outputs": [],
   "source": [
    "loan.Loan_Amount_Term = loan.Loan_Amount_Term.fillna(360.0)"
   ]
  },
  {
   "cell_type": "code",
   "execution_count": 17,
   "metadata": {
    "colab": {
     "base_uri": "https://localhost:8080/",
     "height": 68
    },
    "colab_type": "code",
    "executionInfo": {
     "elapsed": 4604,
     "status": "ok",
     "timestamp": 1580713450410,
     "user": {
      "displayName": "Krishna Prakash",
      "photoUrl": "",
      "userId": "04998136798026767356"
     },
     "user_tz": -330
    },
    "id": "UxhbAeVCq4Ig",
    "outputId": "a03a3ec4-3523-4931-85cc-ec404066d991"
   },
   "outputs": [
    {
     "data": {
      "text/plain": [
       "1.0    754\n",
       "0.0    148\n",
       "Name: Credit_History, dtype: int64"
      ]
     },
     "execution_count": 17,
     "metadata": {},
     "output_type": "execute_result"
    }
   ],
   "source": [
    "loan['Credit_History'].value_counts()"
   ]
  },
  {
   "cell_type": "code",
   "execution_count": 18,
   "metadata": {
    "colab": {},
    "colab_type": "code",
    "id": "PcTaZfl6q4Il"
   },
   "outputs": [],
   "source": [
    "loan.Credit_History = loan.Credit_History.fillna(1.0)"
   ]
  },
  {
   "cell_type": "code",
   "execution_count": 19,
   "metadata": {
    "colab": {
     "base_uri": "https://localhost:8080/",
     "height": 255
    },
    "colab_type": "code",
    "executionInfo": {
     "elapsed": 4530,
     "status": "ok",
     "timestamp": 1580713450415,
     "user": {
      "displayName": "Krishna Prakash",
      "photoUrl": "",
      "userId": "04998136798026767356"
     },
     "user_tz": -330
    },
    "id": "xC-bwAV4q4Iq",
    "outputId": "43646078-1afd-4feb-87de-9360c8204c46"
   },
   "outputs": [
    {
     "data": {
      "text/plain": [
       "Loan_ID              0\n",
       "Gender               0\n",
       "Married              0\n",
       "Dependents           0\n",
       "Education            0\n",
       "Self_Employed        0\n",
       "ApplicantIncome      0\n",
       "CoapplicantIncome    0\n",
       "LoanAmount           0\n",
       "Loan_Amount_Term     0\n",
       "Credit_History       0\n",
       "Property_Area        0\n",
       "Loan_status          0\n",
       "dtype: int64"
      ]
     },
     "execution_count": 19,
     "metadata": {},
     "output_type": "execute_result"
    }
   ],
   "source": [
    "# check for missing values\n",
    "loan.isnull().sum()"
   ]
  },
  {
   "cell_type": "code",
   "execution_count": 20,
   "metadata": {
    "colab": {},
    "colab_type": "code",
    "id": "ECgiqbnSq4Iv"
   },
   "outputs": [],
   "source": [
    "# replacing values\n",
    "loan.Gender = loan.Gender.replace({'Male':0,'Female':1})"
   ]
  },
  {
   "cell_type": "code",
   "execution_count": 21,
   "metadata": {
    "colab": {
     "base_uri": "https://localhost:8080/",
     "height": 224
    },
    "colab_type": "code",
    "executionInfo": {
     "elapsed": 4485,
     "status": "ok",
     "timestamp": 1580713450418,
     "user": {
      "displayName": "Krishna Prakash",
      "photoUrl": "",
      "userId": "04998136798026767356"
     },
     "user_tz": -330
    },
    "id": "4n8XoCaEq4I1",
    "outputId": "8a3002d3-cf4b-40ce-b500-cb34ee4a0cc2"
   },
   "outputs": [
    {
     "data": {
      "text/html": [
       "<div>\n",
       "<style scoped>\n",
       "    .dataframe tbody tr th:only-of-type {\n",
       "        vertical-align: middle;\n",
       "    }\n",
       "\n",
       "    .dataframe tbody tr th {\n",
       "        vertical-align: top;\n",
       "    }\n",
       "\n",
       "    .dataframe thead th {\n",
       "        text-align: right;\n",
       "    }\n",
       "</style>\n",
       "<table border=\"1\" class=\"dataframe\">\n",
       "  <thead>\n",
       "    <tr style=\"text-align: right;\">\n",
       "      <th></th>\n",
       "      <th>Loan_ID</th>\n",
       "      <th>Gender</th>\n",
       "      <th>Married</th>\n",
       "      <th>Dependents</th>\n",
       "      <th>Education</th>\n",
       "      <th>Self_Employed</th>\n",
       "      <th>ApplicantIncome</th>\n",
       "      <th>CoapplicantIncome</th>\n",
       "      <th>LoanAmount</th>\n",
       "      <th>Loan_Amount_Term</th>\n",
       "      <th>Credit_History</th>\n",
       "      <th>Property_Area</th>\n",
       "      <th>Loan_status</th>\n",
       "    </tr>\n",
       "  </thead>\n",
       "  <tbody>\n",
       "    <tr>\n",
       "      <th>976</th>\n",
       "      <td>LP002978</td>\n",
       "      <td>1</td>\n",
       "      <td>No</td>\n",
       "      <td>0</td>\n",
       "      <td>Graduate</td>\n",
       "      <td>No</td>\n",
       "      <td>2900</td>\n",
       "      <td>0.0</td>\n",
       "      <td>71.0</td>\n",
       "      <td>360.0</td>\n",
       "      <td>1.0</td>\n",
       "      <td>Rural</td>\n",
       "      <td>Y</td>\n",
       "    </tr>\n",
       "    <tr>\n",
       "      <th>977</th>\n",
       "      <td>LP002979</td>\n",
       "      <td>0</td>\n",
       "      <td>Yes</td>\n",
       "      <td>3+</td>\n",
       "      <td>Graduate</td>\n",
       "      <td>No</td>\n",
       "      <td>4106</td>\n",
       "      <td>0.0</td>\n",
       "      <td>40.0</td>\n",
       "      <td>180.0</td>\n",
       "      <td>1.0</td>\n",
       "      <td>Rural</td>\n",
       "      <td>Y</td>\n",
       "    </tr>\n",
       "    <tr>\n",
       "      <th>978</th>\n",
       "      <td>LP002983</td>\n",
       "      <td>0</td>\n",
       "      <td>Yes</td>\n",
       "      <td>1</td>\n",
       "      <td>Graduate</td>\n",
       "      <td>No</td>\n",
       "      <td>8072</td>\n",
       "      <td>240.0</td>\n",
       "      <td>253.0</td>\n",
       "      <td>360.0</td>\n",
       "      <td>1.0</td>\n",
       "      <td>Urban</td>\n",
       "      <td>Y</td>\n",
       "    </tr>\n",
       "    <tr>\n",
       "      <th>979</th>\n",
       "      <td>LP002984</td>\n",
       "      <td>0</td>\n",
       "      <td>Yes</td>\n",
       "      <td>2</td>\n",
       "      <td>Graduate</td>\n",
       "      <td>No</td>\n",
       "      <td>7583</td>\n",
       "      <td>0.0</td>\n",
       "      <td>187.0</td>\n",
       "      <td>360.0</td>\n",
       "      <td>1.0</td>\n",
       "      <td>Urban</td>\n",
       "      <td>Y</td>\n",
       "    </tr>\n",
       "    <tr>\n",
       "      <th>980</th>\n",
       "      <td>LP002990</td>\n",
       "      <td>1</td>\n",
       "      <td>No</td>\n",
       "      <td>0</td>\n",
       "      <td>Graduate</td>\n",
       "      <td>Yes</td>\n",
       "      <td>4583</td>\n",
       "      <td>0.0</td>\n",
       "      <td>133.0</td>\n",
       "      <td>360.0</td>\n",
       "      <td>0.0</td>\n",
       "      <td>Semiurban</td>\n",
       "      <td>N</td>\n",
       "    </tr>\n",
       "  </tbody>\n",
       "</table>\n",
       "</div>"
      ],
      "text/plain": [
       "      Loan_ID  Gender Married Dependents Education Self_Employed  \\\n",
       "976  LP002978       1      No          0  Graduate            No   \n",
       "977  LP002979       0     Yes         3+  Graduate            No   \n",
       "978  LP002983       0     Yes          1  Graduate            No   \n",
       "979  LP002984       0     Yes          2  Graduate            No   \n",
       "980  LP002990       1      No          0  Graduate           Yes   \n",
       "\n",
       "     ApplicantIncome  CoapplicantIncome  LoanAmount  Loan_Amount_Term  \\\n",
       "976             2900                0.0        71.0             360.0   \n",
       "977             4106                0.0        40.0             180.0   \n",
       "978             8072              240.0       253.0             360.0   \n",
       "979             7583                0.0       187.0             360.0   \n",
       "980             4583                0.0       133.0             360.0   \n",
       "\n",
       "     Credit_History Property_Area Loan_status  \n",
       "976             1.0         Rural           Y  \n",
       "977             1.0         Rural           Y  \n",
       "978             1.0         Urban           Y  \n",
       "979             1.0         Urban           Y  \n",
       "980             0.0     Semiurban           N  "
      ]
     },
     "execution_count": 21,
     "metadata": {},
     "output_type": "execute_result"
    }
   ],
   "source": [
    "loan.tail()"
   ]
  },
  {
   "cell_type": "code",
   "execution_count": 22,
   "metadata": {
    "colab": {},
    "colab_type": "code",
    "id": "J-T03NBDq4I6"
   },
   "outputs": [],
   "source": [
    "# replacing values\n",
    "loan.Married = loan.Married.replace({'No':0,'Yes':1})\n",
    "loan.Education = loan.Education.replace({'Not Graduate':0,'Graduate':1})\n",
    "loan.Self_Employed = loan.Self_Employed.replace({'No':0,'Yes':1})\n",
    "loan.Property_Area = loan.Property_Area.replace({'Rural':0,'Urban':1, 'Semiurban':2})"
   ]
  },
  {
   "cell_type": "code",
   "execution_count": 23,
   "metadata": {
    "colab": {},
    "colab_type": "code",
    "id": "V0LqSisGq4I-"
   },
   "outputs": [],
   "source": [
    "loan.Loan_status = loan.Loan_status.replace({'N':0,'Y':1})\n",
    "loan.Dependents = loan.Dependents.replace({'3+':3})"
   ]
  },
  {
   "cell_type": "code",
   "execution_count": 24,
   "metadata": {
    "colab": {
     "base_uri": "https://localhost:8080/",
     "height": 224
    },
    "colab_type": "code",
    "executionInfo": {
     "elapsed": 4419,
     "status": "ok",
     "timestamp": 1580713450423,
     "user": {
      "displayName": "Krishna Prakash",
      "photoUrl": "",
      "userId": "04998136798026767356"
     },
     "user_tz": -330
    },
    "id": "jEnWEnUZq4JC",
    "outputId": "998471e3-cd96-48dd-b925-5224273103c7"
   },
   "outputs": [
    {
     "data": {
      "text/html": [
       "<div>\n",
       "<style scoped>\n",
       "    .dataframe tbody tr th:only-of-type {\n",
       "        vertical-align: middle;\n",
       "    }\n",
       "\n",
       "    .dataframe tbody tr th {\n",
       "        vertical-align: top;\n",
       "    }\n",
       "\n",
       "    .dataframe thead th {\n",
       "        text-align: right;\n",
       "    }\n",
       "</style>\n",
       "<table border=\"1\" class=\"dataframe\">\n",
       "  <thead>\n",
       "    <tr style=\"text-align: right;\">\n",
       "      <th></th>\n",
       "      <th>Loan_ID</th>\n",
       "      <th>Gender</th>\n",
       "      <th>Married</th>\n",
       "      <th>Dependents</th>\n",
       "      <th>Education</th>\n",
       "      <th>Self_Employed</th>\n",
       "      <th>ApplicantIncome</th>\n",
       "      <th>CoapplicantIncome</th>\n",
       "      <th>LoanAmount</th>\n",
       "      <th>Loan_Amount_Term</th>\n",
       "      <th>Credit_History</th>\n",
       "      <th>Property_Area</th>\n",
       "      <th>Loan_status</th>\n",
       "    </tr>\n",
       "  </thead>\n",
       "  <tbody>\n",
       "    <tr>\n",
       "      <th>0</th>\n",
       "      <td>LP001015</td>\n",
       "      <td>0</td>\n",
       "      <td>1</td>\n",
       "      <td>0</td>\n",
       "      <td>1</td>\n",
       "      <td>0</td>\n",
       "      <td>5720</td>\n",
       "      <td>0.0</td>\n",
       "      <td>110.0</td>\n",
       "      <td>360.0</td>\n",
       "      <td>1.0</td>\n",
       "      <td>1</td>\n",
       "      <td>1</td>\n",
       "    </tr>\n",
       "    <tr>\n",
       "      <th>1</th>\n",
       "      <td>LP001022</td>\n",
       "      <td>0</td>\n",
       "      <td>1</td>\n",
       "      <td>1</td>\n",
       "      <td>1</td>\n",
       "      <td>0</td>\n",
       "      <td>3076</td>\n",
       "      <td>1500.0</td>\n",
       "      <td>126.0</td>\n",
       "      <td>360.0</td>\n",
       "      <td>1.0</td>\n",
       "      <td>1</td>\n",
       "      <td>0</td>\n",
       "    </tr>\n",
       "    <tr>\n",
       "      <th>2</th>\n",
       "      <td>LP001031</td>\n",
       "      <td>0</td>\n",
       "      <td>1</td>\n",
       "      <td>2</td>\n",
       "      <td>1</td>\n",
       "      <td>0</td>\n",
       "      <td>5000</td>\n",
       "      <td>1800.0</td>\n",
       "      <td>208.0</td>\n",
       "      <td>360.0</td>\n",
       "      <td>1.0</td>\n",
       "      <td>1</td>\n",
       "      <td>1</td>\n",
       "    </tr>\n",
       "    <tr>\n",
       "      <th>3</th>\n",
       "      <td>LP001035</td>\n",
       "      <td>0</td>\n",
       "      <td>1</td>\n",
       "      <td>2</td>\n",
       "      <td>1</td>\n",
       "      <td>0</td>\n",
       "      <td>2340</td>\n",
       "      <td>2546.0</td>\n",
       "      <td>100.0</td>\n",
       "      <td>360.0</td>\n",
       "      <td>1.0</td>\n",
       "      <td>1</td>\n",
       "      <td>1</td>\n",
       "    </tr>\n",
       "    <tr>\n",
       "      <th>4</th>\n",
       "      <td>LP001051</td>\n",
       "      <td>0</td>\n",
       "      <td>0</td>\n",
       "      <td>0</td>\n",
       "      <td>0</td>\n",
       "      <td>0</td>\n",
       "      <td>3276</td>\n",
       "      <td>0.0</td>\n",
       "      <td>78.0</td>\n",
       "      <td>360.0</td>\n",
       "      <td>1.0</td>\n",
       "      <td>1</td>\n",
       "      <td>1</td>\n",
       "    </tr>\n",
       "  </tbody>\n",
       "</table>\n",
       "</div>"
      ],
      "text/plain": [
       "    Loan_ID  Gender  Married Dependents  Education  Self_Employed  \\\n",
       "0  LP001015       0        1          0          1              0   \n",
       "1  LP001022       0        1          1          1              0   \n",
       "2  LP001031       0        1          2          1              0   \n",
       "3  LP001035       0        1          2          1              0   \n",
       "4  LP001051       0        0          0          0              0   \n",
       "\n",
       "   ApplicantIncome  CoapplicantIncome  LoanAmount  Loan_Amount_Term  \\\n",
       "0             5720                0.0       110.0             360.0   \n",
       "1             3076             1500.0       126.0             360.0   \n",
       "2             5000             1800.0       208.0             360.0   \n",
       "3             2340             2546.0       100.0             360.0   \n",
       "4             3276                0.0        78.0             360.0   \n",
       "\n",
       "   Credit_History  Property_Area  Loan_status  \n",
       "0             1.0              1            1  \n",
       "1             1.0              1            0  \n",
       "2             1.0              1            1  \n",
       "3             1.0              1            1  \n",
       "4             1.0              1            1  "
      ]
     },
     "execution_count": 24,
     "metadata": {},
     "output_type": "execute_result"
    }
   ],
   "source": [
    "loan.head()"
   ]
  },
  {
   "cell_type": "code",
   "execution_count": 25,
   "metadata": {
    "colab": {},
    "colab_type": "code",
    "id": "TtYYNK9Jq4JI"
   },
   "outputs": [],
   "source": [
    "loan=loan.drop(['Loan_ID'],axis=1)"
   ]
  },
  {
   "cell_type": "code",
   "execution_count": 26,
   "metadata": {
    "colab": {
     "base_uri": "https://localhost:8080/",
     "height": 224
    },
    "colab_type": "code",
    "executionInfo": {
     "elapsed": 5333,
     "status": "ok",
     "timestamp": 1580713451512,
     "user": {
      "displayName": "Krishna Prakash",
      "photoUrl": "",
      "userId": "04998136798026767356"
     },
     "user_tz": -330
    },
    "id": "DvYReYZBq4JN",
    "outputId": "60486908-c5f8-403b-c557-a4315ae160cb"
   },
   "outputs": [
    {
     "data": {
      "text/html": [
       "<div>\n",
       "<style scoped>\n",
       "    .dataframe tbody tr th:only-of-type {\n",
       "        vertical-align: middle;\n",
       "    }\n",
       "\n",
       "    .dataframe tbody tr th {\n",
       "        vertical-align: top;\n",
       "    }\n",
       "\n",
       "    .dataframe thead th {\n",
       "        text-align: right;\n",
       "    }\n",
       "</style>\n",
       "<table border=\"1\" class=\"dataframe\">\n",
       "  <thead>\n",
       "    <tr style=\"text-align: right;\">\n",
       "      <th></th>\n",
       "      <th>Gender</th>\n",
       "      <th>Married</th>\n",
       "      <th>Dependents</th>\n",
       "      <th>Education</th>\n",
       "      <th>Self_Employed</th>\n",
       "      <th>ApplicantIncome</th>\n",
       "      <th>CoapplicantIncome</th>\n",
       "      <th>LoanAmount</th>\n",
       "      <th>Loan_Amount_Term</th>\n",
       "      <th>Credit_History</th>\n",
       "      <th>Property_Area</th>\n",
       "      <th>Loan_status</th>\n",
       "    </tr>\n",
       "  </thead>\n",
       "  <tbody>\n",
       "    <tr>\n",
       "      <th>0</th>\n",
       "      <td>0</td>\n",
       "      <td>1</td>\n",
       "      <td>0</td>\n",
       "      <td>1</td>\n",
       "      <td>0</td>\n",
       "      <td>5720</td>\n",
       "      <td>0.0</td>\n",
       "      <td>110.0</td>\n",
       "      <td>360.0</td>\n",
       "      <td>1.0</td>\n",
       "      <td>1</td>\n",
       "      <td>1</td>\n",
       "    </tr>\n",
       "    <tr>\n",
       "      <th>1</th>\n",
       "      <td>0</td>\n",
       "      <td>1</td>\n",
       "      <td>1</td>\n",
       "      <td>1</td>\n",
       "      <td>0</td>\n",
       "      <td>3076</td>\n",
       "      <td>1500.0</td>\n",
       "      <td>126.0</td>\n",
       "      <td>360.0</td>\n",
       "      <td>1.0</td>\n",
       "      <td>1</td>\n",
       "      <td>0</td>\n",
       "    </tr>\n",
       "    <tr>\n",
       "      <th>2</th>\n",
       "      <td>0</td>\n",
       "      <td>1</td>\n",
       "      <td>2</td>\n",
       "      <td>1</td>\n",
       "      <td>0</td>\n",
       "      <td>5000</td>\n",
       "      <td>1800.0</td>\n",
       "      <td>208.0</td>\n",
       "      <td>360.0</td>\n",
       "      <td>1.0</td>\n",
       "      <td>1</td>\n",
       "      <td>1</td>\n",
       "    </tr>\n",
       "    <tr>\n",
       "      <th>3</th>\n",
       "      <td>0</td>\n",
       "      <td>1</td>\n",
       "      <td>2</td>\n",
       "      <td>1</td>\n",
       "      <td>0</td>\n",
       "      <td>2340</td>\n",
       "      <td>2546.0</td>\n",
       "      <td>100.0</td>\n",
       "      <td>360.0</td>\n",
       "      <td>1.0</td>\n",
       "      <td>1</td>\n",
       "      <td>1</td>\n",
       "    </tr>\n",
       "    <tr>\n",
       "      <th>4</th>\n",
       "      <td>0</td>\n",
       "      <td>0</td>\n",
       "      <td>0</td>\n",
       "      <td>0</td>\n",
       "      <td>0</td>\n",
       "      <td>3276</td>\n",
       "      <td>0.0</td>\n",
       "      <td>78.0</td>\n",
       "      <td>360.0</td>\n",
       "      <td>1.0</td>\n",
       "      <td>1</td>\n",
       "      <td>1</td>\n",
       "    </tr>\n",
       "  </tbody>\n",
       "</table>\n",
       "</div>"
      ],
      "text/plain": [
       "   Gender  Married Dependents  Education  Self_Employed  ApplicantIncome  \\\n",
       "0       0        1          0          1              0             5720   \n",
       "1       0        1          1          1              0             3076   \n",
       "2       0        1          2          1              0             5000   \n",
       "3       0        1          2          1              0             2340   \n",
       "4       0        0          0          0              0             3276   \n",
       "\n",
       "   CoapplicantIncome  LoanAmount  Loan_Amount_Term  Credit_History  \\\n",
       "0                0.0       110.0             360.0             1.0   \n",
       "1             1500.0       126.0             360.0             1.0   \n",
       "2             1800.0       208.0             360.0             1.0   \n",
       "3             2546.0       100.0             360.0             1.0   \n",
       "4                0.0        78.0             360.0             1.0   \n",
       "\n",
       "   Property_Area  Loan_status  \n",
       "0              1            1  \n",
       "1              1            0  \n",
       "2              1            1  \n",
       "3              1            1  \n",
       "4              1            1  "
      ]
     },
     "execution_count": 26,
     "metadata": {},
     "output_type": "execute_result"
    }
   ],
   "source": [
    "loan.head()"
   ]
  },
  {
   "cell_type": "code",
   "execution_count": 26,
   "metadata": {},
   "outputs": [
    {
     "data": {
      "text/plain": [
       "(981, 12)"
      ]
     },
     "execution_count": 26,
     "metadata": {},
     "output_type": "execute_result"
    }
   ],
   "source": [
    "loan.shape"
   ]
  },
  {
   "cell_type": "code",
   "execution_count": null,
   "metadata": {},
   "outputs": [],
   "source": [
    "# out of 981 samples\n",
    "# a portion of sample used for training and another portion used for testing (ratio is 80:20)"
   ]
  },
  {
   "cell_type": "code",
   "execution_count": 28,
   "metadata": {},
   "outputs": [
    {
     "data": {
      "text/plain": [
       "785"
      ]
     },
     "execution_count": 28,
     "metadata": {},
     "output_type": "execute_result"
    }
   ],
   "source": [
    "round(len(loan)*0.8)"
   ]
  },
  {
   "cell_type": "code",
   "execution_count": null,
   "metadata": {},
   "outputs": [],
   "source": [
    "train = loan.iloc[0:785]\n",
    "test = loan.iloc[785:]"
   ]
  },
  {
   "cell_type": "code",
   "execution_count": 27,
   "metadata": {
    "colab": {},
    "colab_type": "code",
    "id": "czT98IQPq4JS"
   },
   "outputs": [],
   "source": [
    "from sklearn.model_selection import train_test_split\n",
    "# X is every column except the last col --> features\n",
    "X = loan[loan.columns[:-1]]\n",
    "# Y is the last columns --> target column\n",
    "Y = loan[loan.columns[-1]]\n",
    "# splitting train and test data in the ratio of 80:20\n",
    "X_train, X_test, Y_train, Y_test = train_test_split(X, Y, test_size=0.20, random_state=6)"
   ]
  },
  {
   "cell_type": "code",
   "execution_count": 28,
   "metadata": {
    "colab": {
     "base_uri": "https://localhost:8080/",
     "height": 102
    },
    "colab_type": "code",
    "executionInfo": {
     "elapsed": 5249,
     "status": "ok",
     "timestamp": 1580713451520,
     "user": {
      "displayName": "Krishna Prakash",
      "photoUrl": "",
      "userId": "04998136798026767356"
     },
     "user_tz": -330
    },
    "id": "rAQSpgnqq4JW",
    "outputId": "68f9659e-28c8-4d64-facd-4cfb20a6c441"
   },
   "outputs": [
    {
     "data": {
      "text/plain": [
       "LogisticRegression(C=1.0, class_weight=None, dual=False, fit_intercept=True,\n",
       "                   intercept_scaling=1, l1_ratio=None, max_iter=100,\n",
       "                   multi_class='auto', n_jobs=None, penalty='l2',\n",
       "                   random_state=None, solver='lbfgs', tol=0.0001, verbose=0,\n",
       "                   warm_start=False)"
      ]
     },
     "execution_count": 28,
     "metadata": {},
     "output_type": "execute_result"
    }
   ],
   "source": [
    "# build the model\n",
    "# Fitting Logistic Regression to the Training set\n",
    "from sklearn.linear_model import LogisticRegression\n",
    "classifier = LogisticRegression()\n",
    "classifier.fit(X_train, Y_train)"
   ]
  },
  {
   "cell_type": "code",
   "execution_count": 29,
   "metadata": {
    "colab": {},
    "colab_type": "code",
    "id": "eY3QD_2wq4Jb"
   },
   "outputs": [],
   "source": [
    "Y_pred = classifier.predict(X_test)"
   ]
  },
  {
   "cell_type": "code",
   "execution_count": 30,
   "metadata": {
    "colab": {
     "base_uri": "https://localhost:8080/",
     "height": 34
    },
    "colab_type": "code",
    "executionInfo": {
     "elapsed": 5233,
     "status": "ok",
     "timestamp": 1580713451526,
     "user": {
      "displayName": "Krishna Prakash",
      "photoUrl": "",
      "userId": "04998136798026767356"
     },
     "user_tz": -330
    },
    "id": "Sui-DWHDq4Jm",
    "outputId": "58d2866e-8759-4031-d5db-e12663ff3d7d"
   },
   "outputs": [
    {
     "data": {
      "text/plain": [
       "0.7283163265306123"
      ]
     },
     "execution_count": 30,
     "metadata": {},
     "output_type": "execute_result"
    }
   ],
   "source": [
    "classifier.score(X_train, Y_train)"
   ]
  },
  {
   "cell_type": "code",
   "execution_count": 31,
   "metadata": {
    "colab": {
     "base_uri": "https://localhost:8080/",
     "height": 34
    },
    "colab_type": "code",
    "executionInfo": {
     "elapsed": 5131,
     "status": "ok",
     "timestamp": 1580713451536,
     "user": {
      "displayName": "Krishna Prakash",
      "photoUrl": "",
      "userId": "04998136798026767356"
     },
     "user_tz": -330
    },
    "id": "vBT0_fpHq4Ju",
    "outputId": "6a096631-0a6d-45f4-b0b2-805ce14e1435"
   },
   "outputs": [
    {
     "data": {
      "text/plain": [
       "0.7360406091370558"
      ]
     },
     "execution_count": 31,
     "metadata": {},
     "output_type": "execute_result"
    }
   ],
   "source": [
    "classifier.score(X_test, Y_test)"
   ]
  },
  {
   "cell_type": "code",
   "execution_count": 32,
   "metadata": {
    "colab": {
     "base_uri": "https://localhost:8080/",
     "height": 221
    },
    "colab_type": "code",
    "executionInfo": {
     "elapsed": 5086,
     "status": "ok",
     "timestamp": 1580713451538,
     "user": {
      "displayName": "Krishna Prakash",
      "photoUrl": "",
      "userId": "04998136798026767356"
     },
     "user_tz": -330
    },
    "id": "SEqZaC-2q4Jz",
    "outputId": "2265e3c0-ba9c-4c3b-b290-b4badf3e6f38"
   },
   "outputs": [
    {
     "data": {
      "text/plain": [
       "Gender                   0\n",
       "Married                  1\n",
       "Dependents               0\n",
       "Education                1\n",
       "Self_Employed            1\n",
       "ApplicantIncome      16120\n",
       "CoapplicantIncome        0\n",
       "LoanAmount             260\n",
       "Loan_Amount_Term       360\n",
       "Credit_History           1\n",
       "Property_Area            1\n",
       "Name: 961, dtype: object"
      ]
     },
     "execution_count": 32,
     "metadata": {},
     "output_type": "execute_result"
    }
   ],
   "source": [
    "# actual\n",
    "X_test.iloc[70]"
   ]
  },
  {
   "cell_type": "code",
   "execution_count": 34,
   "metadata": {
    "colab": {
     "base_uri": "https://localhost:8080/",
     "height": 34
    },
    "colab_type": "code",
    "executionInfo": {
     "elapsed": 5040,
     "status": "ok",
     "timestamp": 1580713451543,
     "user": {
      "displayName": "Krishna Prakash",
      "photoUrl": "",
      "userId": "04998136798026767356"
     },
     "user_tz": -330
    },
    "id": "XaTXg7_hq4J6",
    "outputId": "eabc0af0-d130-4e3a-faee-7952ce42186f"
   },
   "outputs": [
    {
     "data": {
      "text/plain": [
       "1"
      ]
     },
     "execution_count": 34,
     "metadata": {},
     "output_type": "execute_result"
    }
   ],
   "source": [
    "Y_test.iloc[70]"
   ]
  },
  {
   "cell_type": "code",
   "execution_count": 35,
   "metadata": {
    "colab": {
     "base_uri": "https://localhost:8080/",
     "height": 34
    },
    "colab_type": "code",
    "executionInfo": {
     "elapsed": 4988,
     "status": "ok",
     "timestamp": 1580713451554,
     "user": {
      "displayName": "Krishna Prakash",
      "photoUrl": "",
      "userId": "04998136798026767356"
     },
     "user_tz": -330
    },
    "id": "9ZTa2Hi1q4J-",
    "outputId": "cc2f2de3-50e1-4cef-bb89-0a43564cf5de"
   },
   "outputs": [
    {
     "data": {
      "text/plain": [
       "1"
      ]
     },
     "execution_count": 35,
     "metadata": {},
     "output_type": "execute_result"
    }
   ],
   "source": [
    "# predicted\n",
    "Y_pred[70]"
   ]
  },
  {
   "cell_type": "code",
   "execution_count": 36,
   "metadata": {
    "colab": {},
    "colab_type": "code",
    "id": "RMKtOsmhq4KC"
   },
   "outputs": [],
   "source": [
    "loan_approved = loan[loan['Loan_status']==1]"
   ]
  },
  {
   "cell_type": "code",
   "execution_count": 37,
   "metadata": {
    "colab": {
     "base_uri": "https://localhost:8080/",
     "height": 34
    },
    "colab_type": "code",
    "executionInfo": {
     "elapsed": 4770,
     "status": "ok",
     "timestamp": 1580713451646,
     "user": {
      "displayName": "Krishna Prakash",
      "photoUrl": "",
      "userId": "04998136798026767356"
     },
     "user_tz": -330
    },
    "id": "EgfJahm5q4KG",
    "outputId": "98af3984-0a49-4e8d-f8e3-70ca87e3c502"
   },
   "outputs": [
    {
     "data": {
      "text/plain": [
       "640"
      ]
     },
     "execution_count": 37,
     "metadata": {},
     "output_type": "execute_result"
    }
   ],
   "source": [
    "len(loan_approved)"
   ]
  },
  {
   "cell_type": "code",
   "execution_count": 38,
   "metadata": {
    "colab": {
     "base_uri": "https://localhost:8080/",
     "height": 34
    },
    "colab_type": "code",
    "executionInfo": {
     "elapsed": 4710,
     "status": "ok",
     "timestamp": 1580713451650,
     "user": {
      "displayName": "Krishna Prakash",
      "photoUrl": "",
      "userId": "04998136798026767356"
     },
     "user_tz": -330
    },
    "id": "GuYJRH61q4KL",
    "outputId": "ced2670d-fd9c-4285-cc57-b1908e88ab58"
   },
   "outputs": [
    {
     "data": {
      "text/plain": [
       "341"
      ]
     },
     "execution_count": 38,
     "metadata": {},
     "output_type": "execute_result"
    }
   ],
   "source": [
    "loan_rejected = loan[loan['Loan_status']==0]\n",
    "len(loan_rejected)"
   ]
  },
  {
   "cell_type": "code",
   "execution_count": null,
   "metadata": {
    "colab": {},
    "colab_type": "code",
    "id": "qDfXSdjgq4KQ"
   },
   "outputs": [],
   "source": []
  },
  {
   "cell_type": "code",
   "execution_count": 39,
   "metadata": {
    "colab": {},
    "colab_type": "code",
    "id": "pMNkTc1-q4KV"
   },
   "outputs": [],
   "source": [
    "# Making the Confusion Matrix\n",
    "from sklearn.metrics import confusion_matrix\n",
    "cm = confusion_matrix(Y_test, Y_pred)"
   ]
  },
  {
   "cell_type": "code",
   "execution_count": 40,
   "metadata": {
    "colab": {
     "base_uri": "https://localhost:8080/",
     "height": 51
    },
    "colab_type": "code",
    "executionInfo": {
     "elapsed": 4652,
     "status": "ok",
     "timestamp": 1580713451660,
     "user": {
      "displayName": "Krishna Prakash",
      "photoUrl": "",
      "userId": "04998136798026767356"
     },
     "user_tz": -330
    },
    "id": "FAq6eouXq4Kc",
    "outputId": "d35c52ee-99a5-4172-dc67-4e48ec262354"
   },
   "outputs": [
    {
     "data": {
      "text/plain": [
       "array([[ 23,  46],\n",
       "       [  6, 122]], dtype=int64)"
      ]
     },
     "execution_count": 40,
     "metadata": {},
     "output_type": "execute_result"
    }
   ],
   "source": [
    "\"\"\"\n",
    "TN FP\n",
    "FN TP\n",
    "\n",
    "\"\"\"\n",
    "cm"
   ]
  },
  {
   "cell_type": "code",
   "execution_count": 41,
   "metadata": {
    "colab": {},
    "colab_type": "code",
    "id": "nolLp65qq4Kk"
   },
   "outputs": [],
   "source": [
    "#\"\"\"\n",
    "#TN - 23 --- 23 cases of prediction for loan status =0 are correct\n",
    "#FP - 46   --- 46 cases of prediction for loan status = 1 are NOT correct\n",
    "#FN - 7  -- 7 cases of prediction for loan status =0 are NOT correct\n",
    "#TP - 121  -- 121 cases of prediction for loan status = 1 are correct\n",
    "#\"\"\"\n",
    "# TN and TP are good predictions\n",
    "# FP and FN are bad predictions"
   ]
  },
  {
   "cell_type": "code",
   "execution_count": 42,
   "metadata": {
    "colab": {},
    "colab_type": "code",
    "id": "9_aizoapq4Kr"
   },
   "outputs": [],
   "source": [
    "#Import Library of Gaussian Naive Bayes model\n",
    "from sklearn.naive_bayes import GaussianNB"
   ]
  },
  {
   "cell_type": "code",
   "execution_count": 43,
   "metadata": {
    "colab": {
     "base_uri": "https://localhost:8080/",
     "height": 34
    },
    "colab_type": "code",
    "executionInfo": {
     "elapsed": 4611,
     "status": "ok",
     "timestamp": 1580713451670,
     "user": {
      "displayName": "Krishna Prakash",
      "photoUrl": "",
      "userId": "04998136798026767356"
     },
     "user_tz": -330
    },
    "id": "cRqCX4d5q4Kw",
    "outputId": "30acbd54-0e65-46c8-f9fa-662014c8a142"
   },
   "outputs": [
    {
     "data": {
      "text/plain": [
       "GaussianNB(priors=None, var_smoothing=1e-09)"
      ]
     },
     "execution_count": 43,
     "metadata": {},
     "output_type": "execute_result"
    }
   ],
   "source": [
    "#Create a Gaussian Naive Bayes Classifier\n",
    "model_nb = GaussianNB()\n",
    "\n",
    "# Train the model using the training sets \n",
    "model_nb.fit(X_train,Y_train)"
   ]
  },
  {
   "cell_type": "code",
   "execution_count": 44,
   "metadata": {
    "colab": {},
    "colab_type": "code",
    "id": "rTFUCG7Aq4K1"
   },
   "outputs": [],
   "source": [
    "Y_pred_nb = model_nb.predict(X_test)"
   ]
  },
  {
   "cell_type": "code",
   "execution_count": 45,
   "metadata": {
    "colab": {
     "base_uri": "https://localhost:8080/",
     "height": 34
    },
    "colab_type": "code",
    "executionInfo": {
     "elapsed": 4589,
     "status": "ok",
     "timestamp": 1580713451677,
     "user": {
      "displayName": "Krishna Prakash",
      "photoUrl": "",
      "userId": "04998136798026767356"
     },
     "user_tz": -330
    },
    "id": "8g76deW6q4K6",
    "outputId": "6a791f56-dbfe-41c5-eb04-a7055c968566"
   },
   "outputs": [
    {
     "data": {
      "text/plain": [
       "0.7283163265306123"
      ]
     },
     "execution_count": 45,
     "metadata": {},
     "output_type": "execute_result"
    }
   ],
   "source": [
    "model_nb.score(X_train, Y_train)"
   ]
  },
  {
   "cell_type": "code",
   "execution_count": 46,
   "metadata": {
    "colab": {
     "base_uri": "https://localhost:8080/",
     "height": 34
    },
    "colab_type": "code",
    "executionInfo": {
     "elapsed": 4572,
     "status": "ok",
     "timestamp": 1580713451680,
     "user": {
      "displayName": "Krishna Prakash",
      "photoUrl": "",
      "userId": "04998136798026767356"
     },
     "user_tz": -330
    },
    "id": "gqValEwWq4LA",
    "outputId": "17cbfc8b-e2e5-42c2-db8a-df575a70b592"
   },
   "outputs": [
    {
     "data": {
      "text/plain": [
       "0.7360406091370558"
      ]
     },
     "execution_count": 46,
     "metadata": {},
     "output_type": "execute_result"
    }
   ],
   "source": [
    "model_nb.score(X_test, Y_test)"
   ]
  },
  {
   "cell_type": "code",
   "execution_count": 47,
   "metadata": {
    "colab": {},
    "colab_type": "code",
    "id": "iGhENHmYq4LE"
   },
   "outputs": [],
   "source": [
    "# Making the Confusion Matrix\n",
    "from sklearn.metrics import confusion_matrix\n",
    "cm = confusion_matrix(Y_test, Y_pred_nb)"
   ]
  },
  {
   "cell_type": "code",
   "execution_count": 48,
   "metadata": {
    "colab": {
     "base_uri": "https://localhost:8080/",
     "height": 51
    },
    "colab_type": "code",
    "executionInfo": {
     "elapsed": 4550,
     "status": "ok",
     "timestamp": 1580713451685,
     "user": {
      "displayName": "Krishna Prakash",
      "photoUrl": "",
      "userId": "04998136798026767356"
     },
     "user_tz": -330
    },
    "id": "FRcvZFkHq4LI",
    "outputId": "38ee8364-6968-4947-aede-72493df8e0ef"
   },
   "outputs": [
    {
     "data": {
      "text/plain": [
       "array([[ 25,  44],\n",
       "       [  8, 120]], dtype=int64)"
      ]
     },
     "execution_count": 48,
     "metadata": {},
     "output_type": "execute_result"
    }
   ],
   "source": [
    "cm"
   ]
  },
  {
   "cell_type": "code",
   "execution_count": 49,
   "metadata": {
    "colab": {},
    "colab_type": "code",
    "id": "8W0Q5XBrq4LL"
   },
   "outputs": [],
   "source": [
    "# KNN "
   ]
  },
  {
   "cell_type": "code",
   "execution_count": 50,
   "metadata": {
    "colab": {},
    "colab_type": "code",
    "id": "vPM_I3FSq4LP"
   },
   "outputs": [],
   "source": [
    "from sklearn.neighbors import KNeighborsClassifier"
   ]
  },
  {
   "cell_type": "code",
   "execution_count": 51,
   "metadata": {
    "colab": {},
    "colab_type": "code",
    "id": "UIIk7h-Tq4LV"
   },
   "outputs": [],
   "source": [
    "neigh = KNeighborsClassifier(n_neighbors=3)"
   ]
  },
  {
   "cell_type": "code",
   "execution_count": 52,
   "metadata": {
    "colab": {
     "base_uri": "https://localhost:8080/",
     "height": 68
    },
    "colab_type": "code",
    "executionInfo": {
     "elapsed": 4509,
     "status": "ok",
     "timestamp": 1580713451693,
     "user": {
      "displayName": "Krishna Prakash",
      "photoUrl": "",
      "userId": "04998136798026767356"
     },
     "user_tz": -330
    },
    "id": "qwEy2c4vq4Lk",
    "outputId": "aa10b307-84a3-4cfa-ad7a-078ecca1a2aa"
   },
   "outputs": [
    {
     "data": {
      "text/plain": [
       "KNeighborsClassifier(algorithm='auto', leaf_size=30, metric='minkowski',\n",
       "                     metric_params=None, n_jobs=None, n_neighbors=3, p=2,\n",
       "                     weights='uniform')"
      ]
     },
     "execution_count": 52,
     "metadata": {},
     "output_type": "execute_result"
    }
   ],
   "source": [
    "neigh.fit(X_train, Y_train)"
   ]
  },
  {
   "cell_type": "code",
   "execution_count": 53,
   "metadata": {
    "colab": {},
    "colab_type": "code",
    "id": "pW-6fKG9q4Lq"
   },
   "outputs": [],
   "source": [
    "Y_pred = neigh.predict(X_test)"
   ]
  },
  {
   "cell_type": "code",
   "execution_count": 54,
   "metadata": {
    "colab": {
     "base_uri": "https://localhost:8080/",
     "height": 34
    },
    "colab_type": "code",
    "executionInfo": {
     "elapsed": 4482,
     "status": "ok",
     "timestamp": 1580713451700,
     "user": {
      "displayName": "Krishna Prakash",
      "photoUrl": "",
      "userId": "04998136798026767356"
     },
     "user_tz": -330
    },
    "id": "jqCdXWLUq4Lx",
    "outputId": "c3de0fd6-8de8-460c-c3de-4c9db0bbe384"
   },
   "outputs": [
    {
     "data": {
      "text/plain": [
       "0.5532994923857868"
      ]
     },
     "execution_count": 54,
     "metadata": {},
     "output_type": "execute_result"
    }
   ],
   "source": [
    "neigh.score(X_test,Y_test)"
   ]
  },
  {
   "cell_type": "code",
   "execution_count": 55,
   "metadata": {
    "colab": {},
    "colab_type": "code",
    "id": "J_OIFxIqq4L1"
   },
   "outputs": [],
   "source": [
    "# Decsion tree\n",
    "from sklearn.tree import DecisionTreeClassifier"
   ]
  },
  {
   "cell_type": "code",
   "execution_count": 56,
   "metadata": {
    "colab": {
     "base_uri": "https://localhost:8080/",
     "height": 119
    },
    "colab_type": "code",
    "executionInfo": {
     "elapsed": 4440,
     "status": "ok",
     "timestamp": 1580713451708,
     "user": {
      "displayName": "Krishna Prakash",
      "photoUrl": "",
      "userId": "04998136798026767356"
     },
     "user_tz": -330
    },
    "id": "W8wzNgeWq4L4",
    "outputId": "49d9a95c-6b02-4d97-ebfa-749d4793d275"
   },
   "outputs": [
    {
     "data": {
      "text/plain": [
       "DecisionTreeClassifier(ccp_alpha=0.0, class_weight=None, criterion='gini',\n",
       "                       max_depth=None, max_features=None, max_leaf_nodes=None,\n",
       "                       min_impurity_decrease=0.0, min_impurity_split=None,\n",
       "                       min_samples_leaf=1, min_samples_split=2,\n",
       "                       min_weight_fraction_leaf=0.0, presort='deprecated',\n",
       "                       random_state=None, splitter='best')"
      ]
     },
     "execution_count": 56,
     "metadata": {},
     "output_type": "execute_result"
    }
   ],
   "source": [
    "#Create a decision tree  Classifier\n",
    "d_model = DecisionTreeClassifier()\n",
    "# Train the model using the training sets \n",
    "d_model.fit(X_train, Y_train)"
   ]
  },
  {
   "cell_type": "code",
   "execution_count": 57,
   "metadata": {
    "colab": {
     "base_uri": "https://localhost:8080/",
     "height": 34
    },
    "colab_type": "code",
    "executionInfo": {
     "elapsed": 4380,
     "status": "ok",
     "timestamp": 1580713451710,
     "user": {
      "displayName": "Krishna Prakash",
      "photoUrl": "",
      "userId": "04998136798026767356"
     },
     "user_tz": -330
    },
    "id": "f1BKbw04q4L8",
    "outputId": "a47d0e70-950a-4b79-b419-2f114939e35c"
   },
   "outputs": [
    {
     "data": {
      "text/plain": [
       "0.9987244897959183"
      ]
     },
     "execution_count": 57,
     "metadata": {},
     "output_type": "execute_result"
    }
   ],
   "source": [
    "d_model.score(X_train,Y_train)"
   ]
  },
  {
   "cell_type": "code",
   "execution_count": 58,
   "metadata": {
    "colab": {
     "base_uri": "https://localhost:8080/",
     "height": 34
    },
    "colab_type": "code",
    "executionInfo": {
     "elapsed": 4340,
     "status": "ok",
     "timestamp": 1580713451716,
     "user": {
      "displayName": "Krishna Prakash",
      "photoUrl": "",
      "userId": "04998136798026767356"
     },
     "user_tz": -330
    },
    "id": "indJYoviq4L_",
    "outputId": "0d97d3dc-59a1-4886-c539-8821e5390efa"
   },
   "outputs": [
    {
     "data": {
      "text/plain": [
       "0.6649746192893401"
      ]
     },
     "execution_count": 58,
     "metadata": {},
     "output_type": "execute_result"
    }
   ],
   "source": [
    "d_model.score(X_test,Y_test)"
   ]
  },
  {
   "cell_type": "code",
   "execution_count": 59,
   "metadata": {
    "colab": {},
    "colab_type": "code",
    "id": "SY2nKfgqq4MC"
   },
   "outputs": [],
   "source": [
    "Y_pred_d = d_model.predict(X_test)"
   ]
  },
  {
   "cell_type": "code",
   "execution_count": 60,
   "metadata": {
    "colab": {},
    "colab_type": "code",
    "id": "6cNpf74gq4Mk"
   },
   "outputs": [],
   "source": [
    "cm = confusion_matrix(Y_test, Y_pred_d)"
   ]
  },
  {
   "cell_type": "code",
   "execution_count": 61,
   "metadata": {
    "colab": {
     "base_uri": "https://localhost:8080/",
     "height": 51
    },
    "colab_type": "code",
    "executionInfo": {
     "elapsed": 4222,
     "status": "ok",
     "timestamp": 1580713451722,
     "user": {
      "displayName": "Krishna Prakash",
      "photoUrl": "",
      "userId": "04998136798026767356"
     },
     "user_tz": -330
    },
    "id": "Yq3d2pXzq4Mn",
    "outputId": "eae20017-2203-4b9b-86e9-b8d4bb805be8"
   },
   "outputs": [
    {
     "data": {
      "text/plain": [
       "array([[35, 34],\n",
       "       [32, 96]], dtype=int64)"
      ]
     },
     "execution_count": 61,
     "metadata": {},
     "output_type": "execute_result"
    }
   ],
   "source": [
    "cm"
   ]
  },
  {
   "cell_type": "code",
   "execution_count": 62,
   "metadata": {
    "colab": {},
    "colab_type": "code",
    "id": "rq9EbFF8q4Mx"
   },
   "outputs": [],
   "source": [
    "# Hyper parameter tuning\n",
    "from sklearn.model_selection import GridSearchCV, RandomizedSearchCV\n",
    "import warnings\n",
    "warnings.filterwarnings('ignore')"
   ]
  },
  {
   "cell_type": "code",
   "execution_count": 63,
   "metadata": {
    "colab": {
     "base_uri": "https://localhost:8080/",
     "height": 408
    },
    "colab_type": "code",
    "executionInfo": {
     "elapsed": 4875,
     "status": "ok",
     "timestamp": 1580713452396,
     "user": {
      "displayName": "Krishna Prakash",
      "photoUrl": "",
      "userId": "04998136798026767356"
     },
     "user_tz": -330
    },
    "id": "F8rp1q33q4Mz",
    "outputId": "4b0fc4bb-61a1-4bb7-d69f-1fe545aecbdb"
   },
   "outputs": [
    {
     "data": {
      "text/plain": [
       "RandomizedSearchCV(cv=None, error_score=nan,\n",
       "                   estimator=LogisticRegression(C=1.0, class_weight=None,\n",
       "                                                dual=False, fit_intercept=True,\n",
       "                                                intercept_scaling=1,\n",
       "                                                l1_ratio=None, max_iter=100,\n",
       "                                                multi_class='auto', n_jobs=None,\n",
       "                                                penalty='l2', random_state=None,\n",
       "                                                solver='lbfgs', tol=0.0001,\n",
       "                                                verbose=0, warm_start=False),\n",
       "                   iid='deprecated', n_iter=10, n_jobs=None,\n",
       "                   param_distributions={'...5, 6, 7, 8, 9, 10, 11,\n",
       "                                              12, 13, 14, 15, 16, 17, 18, 19,\n",
       "                                              20, 21, 22, 23, 24, 25, 26, 27,\n",
       "                                              28, 29, 30, ...],\n",
       "                                        'max_iter': [1, 2, 3, 4, 5, 6, 7, 8, 9,\n",
       "                                                     10, 11, 12, 13, 14, 15, 16,\n",
       "                                                     17, 18, 19, 20, 21, 22, 23,\n",
       "                                                     24, 25, 26, 27, 28, 29, 30, ...],\n",
       "                                        'penalty': ['l1', 'l2'],\n",
       "                                        'solver': ['liblinear', 'saga'],\n",
       "                                        'tol': (1e-05, 0.001)},\n",
       "                   pre_dispatch='2*n_jobs', random_state=None, refit=True,\n",
       "                   return_train_score=False, scoring=None, verbose=0)"
      ]
     },
     "execution_count": 63,
     "metadata": {},
     "output_type": "execute_result"
    }
   ],
   "source": [
    "\n",
    "# this is our parameter grid\n",
    "param_grid = {\n",
    "    'solver': ['liblinear', 'saga'],  \n",
    "    'penalty': ['l1','l2'],\n",
    "    'tol': (1e-5, 1e-3),\n",
    "    'C': [ _ for _ in range(1,50)],\n",
    "    'max_iter':[ _ for _ in range(1,150)]   \n",
    "}\n",
    "\n",
    "# set up our optimiser to find the best params in 30 searches\n",
    "opt_logit = RandomizedSearchCV(LogisticRegression(), param_grid,verbose=0)\n",
    "\n",
    "opt_logit.fit(X_train, Y_train)\n"
   ]
  },
  {
   "cell_type": "code",
   "execution_count": 64,
   "metadata": {
    "colab": {
     "base_uri": "https://localhost:8080/",
     "height": 51
    },
    "colab_type": "code",
    "executionInfo": {
     "elapsed": 4813,
     "status": "ok",
     "timestamp": 1580713452403,
     "user": {
      "displayName": "Krishna Prakash",
      "photoUrl": "",
      "userId": "04998136798026767356"
     },
     "user_tz": -330
    },
    "id": "z0n33jq3q4M4",
    "outputId": "1d94fbd7-ed39-43be-e293-b893f1d05591"
   },
   "outputs": [
    {
     "name": "stdout",
     "output_type": "stream",
     "text": [
      "Best params achieve a test score of 0.7360406091370558 :\n"
     ]
    },
    {
     "data": {
      "text/plain": [
       "{'tol': 1e-05,\n",
       " 'solver': 'liblinear',\n",
       " 'penalty': 'l1',\n",
       " 'max_iter': 128,\n",
       " 'C': 28}"
      ]
     },
     "execution_count": 64,
     "metadata": {},
     "output_type": "execute_result"
    }
   ],
   "source": [
    "print('Best params achieve a test score of', opt_logit.score(X_test, Y_test), ':')\n",
    "opt_logit.best_params_"
   ]
  },
  {
   "cell_type": "code",
   "execution_count": 65,
   "metadata": {
    "colab": {
     "base_uri": "https://localhost:8080/",
     "height": 102
    },
    "colab_type": "code",
    "executionInfo": {
     "elapsed": 4776,
     "status": "ok",
     "timestamp": 1580713452405,
     "user": {
      "displayName": "Krishna Prakash",
      "photoUrl": "",
      "userId": "04998136798026767356"
     },
     "user_tz": -330
    },
    "id": "mW7_JZtLq4M7",
    "outputId": "e7beb371-4509-4259-f254-dbc7bda6567a"
   },
   "outputs": [
    {
     "data": {
      "text/plain": [
       "LogisticRegression(C=28, class_weight=None, dual=False, fit_intercept=True,\n",
       "                   intercept_scaling=1, l1_ratio=None, max_iter=128,\n",
       "                   multi_class='auto', n_jobs=None, penalty='l1',\n",
       "                   random_state=None, solver='liblinear', tol=1e-05, verbose=0,\n",
       "                   warm_start=False)"
      ]
     },
     "execution_count": 65,
     "metadata": {},
     "output_type": "execute_result"
    }
   ],
   "source": [
    "opt_logit.best_estimator_"
   ]
  },
  {
   "cell_type": "code",
   "execution_count": 66,
   "metadata": {
    "colab": {
     "base_uri": "https://localhost:8080/",
     "height": 102
    },
    "colab_type": "code",
    "executionInfo": {
     "elapsed": 4723,
     "status": "ok",
     "timestamp": 1580713452406,
     "user": {
      "displayName": "Krishna Prakash",
      "photoUrl": "",
      "userId": "04998136798026767356"
     },
     "user_tz": -330
    },
    "id": "6HtcFZsbq4M-",
    "outputId": "1be624a6-239a-4a4c-cf7a-37f21ea0f297"
   },
   "outputs": [
    {
     "data": {
      "text/plain": [
       "LogisticRegression(C=28, class_weight=None, dual=False, fit_intercept=True,\n",
       "                   intercept_scaling=1, l1_ratio=None, max_iter=128,\n",
       "                   multi_class='auto', n_jobs=None, penalty='l1',\n",
       "                   random_state=None, solver='liblinear', tol=1e-05, verbose=0,\n",
       "                   warm_start=False)"
      ]
     },
     "execution_count": 66,
     "metadata": {},
     "output_type": "execute_result"
    }
   ],
   "source": [
    "opt_logit_m = LogisticRegression(**opt_logit.best_params_)\n",
    "opt_logit_m.fit(X_train, Y_train)"
   ]
  },
  {
   "cell_type": "code",
   "execution_count": 67,
   "metadata": {
    "colab": {
     "base_uri": "https://localhost:8080/",
     "height": 34
    },
    "colab_type": "code",
    "executionInfo": {
     "elapsed": 4648,
     "status": "ok",
     "timestamp": 1580713452408,
     "user": {
      "displayName": "Krishna Prakash",
      "photoUrl": "",
      "userId": "04998136798026767356"
     },
     "user_tz": -330
    },
    "id": "4Dlj4dQJq4NC",
    "outputId": "b612171e-94f7-4707-d32f-cf8ab7f82834"
   },
   "outputs": [
    {
     "data": {
      "text/plain": [
       "0.7360406091370558"
      ]
     },
     "execution_count": 67,
     "metadata": {},
     "output_type": "execute_result"
    }
   ],
   "source": [
    "opt_logit_m.score(X_test,Y_test)"
   ]
  },
  {
   "cell_type": "code",
   "execution_count": 68,
   "metadata": {
    "colab": {},
    "colab_type": "code",
    "id": "b2YmBlH4q4NG"
   },
   "outputs": [],
   "source": [
    "#saving the model"
   ]
  },
  {
   "cell_type": "code",
   "execution_count": 69,
   "metadata": {
    "colab": {
     "base_uri": "https://localhost:8080/",
     "height": 34
    },
    "colab_type": "code",
    "executionInfo": {
     "elapsed": 4619,
     "status": "ok",
     "timestamp": 1580713452420,
     "user": {
      "displayName": "Krishna Prakash",
      "photoUrl": "",
      "userId": "04998136798026767356"
     },
     "user_tz": -330
    },
    "id": "WIgiFk3iq4NN",
    "outputId": "c1d11b47-0957-4810-e0af-452cecb59794"
   },
   "outputs": [
    {
     "data": {
      "text/plain": [
       "['loan_approval.joblib']"
      ]
     },
     "execution_count": 69,
     "metadata": {},
     "output_type": "execute_result"
    }
   ],
   "source": [
    "from joblib import dump, load\n",
    "dump(opt_logit_m, 'loan_approval.joblib')"
   ]
  },
  {
   "cell_type": "code",
   "execution_count": 70,
   "metadata": {
    "colab": {},
    "colab_type": "code",
    "id": "XwA8ux3nq4NR"
   },
   "outputs": [],
   "source": [
    "# load the saved model\n",
    "loan_app = load('loan_approval.joblib')"
   ]
  },
  {
   "cell_type": "code",
   "execution_count": 71,
   "metadata": {
    "colab": {},
    "colab_type": "code",
    "id": "gn4hWmb-q4NU"
   },
   "outputs": [],
   "source": [
    "# deployment of the the model in web app"
   ]
  }
 ],
 "metadata": {
  "colab": {
   "name": "Loan_approval_project_final-updated.ipynb",
   "provenance": []
  },
  "kernelspec": {
   "display_name": "Python 3",
   "language": "python",
   "name": "python3"
  },
  "language_info": {
   "codemirror_mode": {
    "name": "ipython",
    "version": 3
   },
   "file_extension": ".py",
   "mimetype": "text/x-python",
   "name": "python",
   "nbconvert_exporter": "python",
   "pygments_lexer": "ipython3",
   "version": "3.8.5"
  }
 },
 "nbformat": 4,
 "nbformat_minor": 1
}
